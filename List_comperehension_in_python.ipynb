{
  "nbformat": 4,
  "nbformat_minor": 0,
  "metadata": {
    "colab": {
      "provenance": [],
      "toc_visible": true,
      "authorship_tag": "ABX9TyO38RciZyXwVMxJLnTq3BQC",
      "include_colab_link": true
    },
    "kernelspec": {
      "name": "python3",
      "display_name": "Python 3"
    },
    "language_info": {
      "name": "python"
    }
  },
  "cells": [
    {
      "cell_type": "markdown",
      "metadata": {
        "id": "view-in-github",
        "colab_type": "text"
      },
      "source": [
        "<a href=\"https://colab.research.google.com/github/Himanshu-Tripathi-2101/Himanshu-Tripathi-2101/blob/main/List_comperehension_in_python.ipynb\" target=\"_parent\"><img src=\"https://colab.research.google.com/assets/colab-badge.svg\" alt=\"Open In Colab\"/></a>"
      ]
    },
    {
      "cell_type": "markdown",
      "source": [
        "#Question 01\n",
        "Write a list comprehension to create a list of numbers from 0 to 9.\n",
        "Output: [0, 1, 2, 3, 4, 5, 6, 7, 8, 9]"
      ],
      "metadata": {
        "id": "bvFOPbnEDv9G"
      }
    },
    {
      "cell_type": "code",
      "source": [
        "list = [num for num in range(10)]\n",
        "print(list)"
      ],
      "metadata": {
        "colab": {
          "base_uri": "https://localhost:8080/"
        },
        "id": "bAtFq4ptD4JU",
        "outputId": "9f6b03b0-a5b2-47b4-85f6-5968825db540"
      },
      "execution_count": 3,
      "outputs": [
        {
          "output_type": "stream",
          "name": "stdout",
          "text": [
            "[0, 1, 2, 3, 4, 5, 6, 7, 8, 9]\n"
          ]
        }
      ]
    },
    {
      "cell_type": "markdown",
      "source": [
        "#Question 02\n",
        "\n",
        "Use a list comprehension to generate a list of squares of numbers from 1 to 5.\n",
        "Output: [1, 4, 9, 16, 25]"
      ],
      "metadata": {
        "id": "mieAru10EjMa"
      }
    },
    {
      "cell_type": "code",
      "source": [
        "Square_list = [x**2 for x in range (1,6)]\n",
        "print(Square_list)"
      ],
      "metadata": {
        "colab": {
          "base_uri": "https://localhost:8080/"
        },
        "id": "cK1eyAKDEovO",
        "outputId": "4d2e5563-18b3-4967-d8c5-f42492985d20"
      },
      "execution_count": 6,
      "outputs": [
        {
          "output_type": "stream",
          "name": "stdout",
          "text": [
            "[1, 4, 9, 16, 25]\n"
          ]
        }
      ]
    },
    {
      "cell_type": "markdown",
      "source": [
        "#Question 03\n",
        "\n",
        "Write a list comprehension to get all even numbers between 1 and 10.\n",
        "Output: [2, 4, 6, 8, 10]"
      ],
      "metadata": {
        "id": "em04ZzJoFkt4"
      }
    },
    {
      "cell_type": "code",
      "source": [
        "even_list = [x for x in range (1,11) if x%2==0]\n",
        "print(even_list)"
      ],
      "metadata": {
        "colab": {
          "base_uri": "https://localhost:8080/"
        },
        "id": "75GP5baVGO1T",
        "outputId": "9fdb90b4-5688-4205-ef93-fa6e184ec2be"
      },
      "execution_count": 8,
      "outputs": [
        {
          "output_type": "stream",
          "name": "stdout",
          "text": [
            "[2, 4, 6, 8, 10]\n"
          ]
        }
      ]
    },
    {
      "cell_type": "markdown",
      "source": [
        "\n",
        "\n",
        "#Question 04\n",
        "  \n",
        "Generate a list of the first letter of each word in the list ['apple', 'banana', 'cherry'].\n",
        "Output: ['a', 'b', 'c']\n",
        "\n",
        "\n"
      ],
      "metadata": {
        "id": "JAMLhtwoGuEY"
      }
    },
    {
      "cell_type": "code",
      "source": [
        "first_leters = [word[0] for word in ['apple', 'banana', 'cherry']]\n",
        "print(first_leters)"
      ],
      "metadata": {
        "colab": {
          "base_uri": "https://localhost:8080/"
        },
        "id": "ySC1vvI3G43S",
        "outputId": "4bbac678-2ae7-4c88-882e-322b4efdbf82"
      },
      "execution_count": 9,
      "outputs": [
        {
          "output_type": "stream",
          "name": "stdout",
          "text": [
            "['a', 'b', 'c']\n"
          ]
        }
      ]
    },
    {
      "cell_type": "markdown",
      "source": [
        "#Question 05\n",
        "\n",
        "Create a list of lengths of each word in the list ['cat', 'lion', 'elephant'].\n",
        "Output: [3, 4, 8]"
      ],
      "metadata": {
        "id": "WnihXRTsHYtN"
      }
    },
    {
      "cell_type": "code",
      "source": [
        "length_list = [len(word) for word in  ['cat', 'lion', 'elephant']]\n",
        "print(length_list)"
      ],
      "metadata": {
        "colab": {
          "base_uri": "https://localhost:8080/"
        },
        "id": "idFl8vFrH01A",
        "outputId": "ce45e749-cd3b-4e1f-d717-e1e2c94a9a85"
      },
      "execution_count": 12,
      "outputs": [
        {
          "output_type": "stream",
          "name": "stdout",
          "text": [
            "[3, 4, 8]\n"
          ]
        }
      ]
    },
    {
      "cell_type": "markdown",
      "source": [
        "#Question 06\n",
        "\n",
        "Use list comprehension to generate a list of numbers divisible by 3 from 1 to 20.\n",
        "Output: [3, 6, 9, 12, 15, 18]"
      ],
      "metadata": {
        "id": "U9nLmCepIMvo"
      }
    },
    {
      "cell_type": "code",
      "source": [
        "three_divides = [num for num in range(1,21) if num % 3 ==0 ]\n",
        "print(three_divides)"
      ],
      "metadata": {
        "colab": {
          "base_uri": "https://localhost:8080/"
        },
        "id": "tlbh-g_RIUvp",
        "outputId": "9415b952-f580-4fac-ba0e-faedf896776f"
      },
      "execution_count": 13,
      "outputs": [
        {
          "output_type": "stream",
          "name": "stdout",
          "text": [
            "[3, 6, 9, 12, 15, 18]\n"
          ]
        }
      ]
    },
    {
      "cell_type": "markdown",
      "source": [],
      "metadata": {
        "id": "6VNpcl7GJCLj"
      }
    },
    {
      "cell_type": "code",
      "source": [],
      "metadata": {
        "id": "_KIDL9EkJDbJ"
      },
      "execution_count": null,
      "outputs": []
    },
    {
      "cell_type": "markdown",
      "source": [
        "#Question 07\n",
        "\n",
        "Create a list comprehension that replaces every number divisible by 2 with 'even', and others with 'odd', in range 1 to 5.\n",
        "Output: ['odd', 'even', 'odd', 'even', 'odd']\n",
        "\n"
      ],
      "metadata": {
        "id": "QxPmE9a3JKO7"
      }
    },
    {
      "cell_type": "code",
      "source": [
        "numbers_property = [\"Even\" if num % 2== 0 else \"odd\" for num in range(1,6)]\n",
        "print(numbers_property)"
      ],
      "metadata": {
        "colab": {
          "base_uri": "https://localhost:8080/"
        },
        "id": "-RZZXVFqJSjU",
        "outputId": "e89d62f2-6c17-4e7b-f166-eb58fcc9812a"
      },
      "execution_count": 15,
      "outputs": [
        {
          "output_type": "stream",
          "name": "stdout",
          "text": [
            "['odd', 'Even', 'odd', 'Even', 'odd']\n"
          ]
        }
      ]
    },
    {
      "cell_type": "markdown",
      "source": [
        "#Question 08\n",
        "Write a list comprehension to flatten the list [[1, 2], [3, 4], [5, 6]].\n",
        "Output: [1, 2, 3, 4, 5, 6]"
      ],
      "metadata": {
        "id": "CT9QEmJKKPpP"
      }
    },
    {
      "cell_type": "code",
      "source": [
        "input = [[1, 2], [3, 4], [5, 6]]\n",
        "flatened = [item for row in input for item in row]\n",
        "print(flatened)"
      ],
      "metadata": {
        "colab": {
          "base_uri": "https://localhost:8080/"
        },
        "id": "ANsMMy9sPKY-",
        "outputId": "8c289693-07f4-4aea-e458-3a88bf76da7d"
      },
      "execution_count": 16,
      "outputs": [
        {
          "output_type": "stream",
          "name": "stdout",
          "text": [
            "[1, 2, 3, 4, 5, 6]\n"
          ]
        }
      ]
    },
    {
      "cell_type": "code",
      "source": [
        "input = [[[1, 2], [3, 4]], [[5, 6],[7,8]]]\n",
        "flatened = [item for sublist in input for row in sublist for item in row]\n",
        "print(flatened)"
      ],
      "metadata": {
        "colab": {
          "base_uri": "https://localhost:8080/"
        },
        "id": "szVxp3wKQU5n",
        "outputId": "1e0cd28d-5a49-4d8b-ade5-caf3f3c0696f"
      },
      "execution_count": 17,
      "outputs": [
        {
          "output_type": "stream",
          "name": "stdout",
          "text": [
            "[1, 2, 3, 4, 5, 6, 7, 8]\n"
          ]
        }
      ]
    },
    {
      "cell_type": "markdown",
      "source": [
        "#Question 9\n",
        "Generate a list of tuples representing a Cartesian product of [1, 2] and [3, 4].\n",
        "Output: [(1, 3), (1, 4), (2, 3), (2, 4)]"
      ],
      "metadata": {
        "id": "5r28CUMSRnca"
      }
    },
    {
      "cell_type": "code",
      "source": [
        "l1= [1,2]\n",
        "l2= [3,4]\n",
        "product = [(m,n) for m in l1 for n in l2]\n",
        "print(product)"
      ],
      "metadata": {
        "colab": {
          "base_uri": "https://localhost:8080/"
        },
        "id": "YM_OH-SxRtP3",
        "outputId": "5510dc86-5f88-4eab-e663-d163fa36ec26"
      },
      "execution_count": 22,
      "outputs": [
        {
          "output_type": "stream",
          "name": "stdout",
          "text": [
            "[(1, 3), (1, 4), (2, 3), (2, 4)]\n"
          ]
        }
      ]
    },
    {
      "cell_type": "code",
      "source": [
        "l1= [1,2]\n",
        "l2= [3,4]\n",
        "l3= [[8,7],[10,9]]\n",
        "product = [(m,n,o) for m in l1 for n in l2 for rows in l3 for o in rows]\n",
        "print(product)\n",
        "print(len(product))"
      ],
      "metadata": {
        "colab": {
          "base_uri": "https://localhost:8080/"
        },
        "id": "eJVhwTOOS8H-",
        "outputId": "ee1df6fa-8596-487d-c833-3d95b8fc1714"
      },
      "execution_count": 27,
      "outputs": [
        {
          "output_type": "stream",
          "name": "stdout",
          "text": [
            "[(1, 3, 8), (1, 3, 7), (1, 3, 10), (1, 3, 9), (1, 4, 8), (1, 4, 7), (1, 4, 10), (1, 4, 9), (2, 3, 8), (2, 3, 7), (2, 3, 10), (2, 3, 9), (2, 4, 8), (2, 4, 7), (2, 4, 10), (2, 4, 9)]\n",
            "16\n"
          ]
        }
      ]
    },
    {
      "cell_type": "code",
      "source": [],
      "metadata": {
        "id": "6Su_zWP_1y_V"
      },
      "execution_count": null,
      "outputs": []
    },
    {
      "cell_type": "markdown",
      "source": [
        "#Question 10\n",
        "\n",
        "Use a list comprehension to generate the first 10 Fibonacci numbers (Hint: Use a helper function).\n",
        "Output: [0, 1, 1, 2, 3, 5, 8, 13, 21, 34]"
      ],
      "metadata": {
        "id": "rPTYtTgqT8Re"
      }
    },
    {
      "cell_type": "code",
      "source": [
        "def fibonici(num):\n",
        "  if num > 1:\n",
        "    number = fibonici(num-2) + fibonici(num-1)\n",
        "  elif num == 1:\n",
        "    return 1\n",
        "  else:\n",
        "    return 0\n",
        "\n",
        "  return number\n",
        "\n",
        "fibonici_series = [fibonici(i) for i in range (10)]\n",
        "print(fibonici_series)"
      ],
      "metadata": {
        "colab": {
          "base_uri": "https://localhost:8080/"
        },
        "id": "WgxZXT-hUGTS",
        "outputId": "530d97a2-facc-45a6-9577-8bc1496676f8"
      },
      "execution_count": 34,
      "outputs": [
        {
          "output_type": "stream",
          "name": "stdout",
          "text": [
            "[0, 1, 1, 2, 3, 5, 8, 13, 21, 34]\n"
          ]
        }
      ]
    },
    {
      "cell_type": "markdown",
      "source": [
        "#Question 11\n",
        "Convert all the words in ['hello', 'world'] to uppercase using list comprehension.\n",
        "Output: ['HELLO', 'WORLD']"
      ],
      "metadata": {
        "id": "FekkqqUsX89t"
      }
    },
    {
      "cell_type": "code",
      "source": [
        "lower_list =  ['hello', 'world']\n",
        "upper_list= [char.upper() for char in lower_list]\n",
        "print(upper_list)"
      ],
      "metadata": {
        "colab": {
          "base_uri": "https://localhost:8080/"
        },
        "id": "GDFiHG7gYIeb",
        "outputId": "5f691a2a-3fc1-49de-a42f-d403c421dfdc"
      },
      "execution_count": 36,
      "outputs": [
        {
          "output_type": "stream",
          "name": "stdout",
          "text": [
            "['HELLO', 'WORLD']\n"
          ]
        }
      ]
    },
    {
      "cell_type": "markdown",
      "source": [
        "#Question 12\n",
        "Create a dictionary where the keys are numbers from 1 to 3 and the values are their squares.\n",
        "Output: {1: 1, 2: 4, 3: 9}"
      ],
      "metadata": {
        "id": "BoAQS3XcZYty"
      }
    },
    {
      "cell_type": "code",
      "source": [
        "square_dict = {a:a**2 for a in range(1,4)}\n",
        "print(square_dict)"
      ],
      "metadata": {
        "colab": {
          "base_uri": "https://localhost:8080/"
        },
        "id": "uN95S8KwZlLL",
        "outputId": "fe791f25-493f-4da8-f445-ecf4fda231f6"
      },
      "execution_count": 41,
      "outputs": [
        {
          "output_type": "stream",
          "name": "stdout",
          "text": [
            "{1: 1, 2: 4, 3: 9}\n"
          ]
        }
      ]
    },
    {
      "cell_type": "markdown",
      "source": [
        "#Question 13\n",
        "\n",
        "Use list comprehension to find common elements between two lists [1, 2, 3] and [2, 3, 4].\n",
        "Output: [2, 3]\n"
      ],
      "metadata": {
        "id": "dmqYPk6-anOo"
      }
    },
    {
      "cell_type": "code",
      "source": [
        "l1 = [1,2,3]\n",
        "l2 = [2,3,4]\n",
        "common = [i for i in l1 if i in l2]\n",
        "print(common)"
      ],
      "metadata": {
        "colab": {
          "base_uri": "https://localhost:8080/"
        },
        "id": "McVImbmda9yw",
        "outputId": "6db2686a-835b-40e1-bea4-a69b7d335b59"
      },
      "execution_count": 43,
      "outputs": [
        {
          "output_type": "stream",
          "name": "stdout",
          "text": [
            "[2, 3]\n"
          ]
        }
      ]
    },
    {
      "cell_type": "markdown",
      "source": [
        "#Question 14\n",
        "\n",
        "Write a set comprehension to find unique characters in the string 'abracadabra'.\n",
        "Output: {'a', 'b', 'c', 'd', 'r'}\n"
      ],
      "metadata": {
        "id": "PKQMCirUc0QG"
      }
    },
    {
      "cell_type": "code",
      "source": [
        "string = \"abracadabra\"\n",
        "set= {char for char in string}\n",
        "print(set)"
      ],
      "metadata": {
        "colab": {
          "base_uri": "https://localhost:8080/"
        },
        "id": "WHb2uSAadAJw",
        "outputId": "0f8b0e6f-3738-4772-dd2c-de23ca98c7b3"
      },
      "execution_count": 44,
      "outputs": [
        {
          "output_type": "stream",
          "name": "stdout",
          "text": [
            "{'b', 'a', 'c', 'r', 'd'}\n"
          ]
        }
      ]
    },
    {
      "cell_type": "markdown",
      "source": [
        "#Question 15\n",
        "Use list comprehension to transpose a 2D matrix [[1, 2], [3, 4]].\n",
        "Output: [[1, 3], [2, 4]]"
      ],
      "metadata": {
        "id": "QCyWCFEed3pf"
      }
    },
    {
      "cell_type": "code",
      "source": [
        "matrix = [[1, 2], [3, 4]]\n",
        "transpose = [[row[i]for row in matrix]for i in range(len(matrix[0]))]\n",
        "print(transpose)"
      ],
      "metadata": {
        "colab": {
          "base_uri": "https://localhost:8080/"
        },
        "id": "SO3ND3T21Dr3",
        "outputId": "efd83278-18c5-435e-a56e-49646d469023"
      },
      "execution_count": 1,
      "outputs": [
        {
          "output_type": "stream",
          "name": "stdout",
          "text": [
            "[[1, 3], [2, 4]]\n"
          ]
        }
      ]
    },
    {
      "cell_type": "markdown",
      "source": [
        "#Question 16\n",
        "Write a list comprehension that applies the len() function to each word in ['dog', 'elephant', 'tiger'].\n",
        "Output: [3, 8, 5]"
      ],
      "metadata": {
        "id": "-ndUeEV115S0"
      }
    },
    {
      "cell_type": "code",
      "source": [
        "animals = ['dog', 'elephant', 'tiger']\n",
        "animal_len = [len(word) for word in animals]\n",
        "print(animal_len)"
      ],
      "metadata": {
        "colab": {
          "base_uri": "https://localhost:8080/"
        },
        "id": "eg3yi5W22DhM",
        "outputId": "19fdff25-9cc1-49f1-d2c9-7aeb4615c8e5"
      },
      "execution_count": 2,
      "outputs": [
        {
          "output_type": "stream",
          "name": "stdout",
          "text": [
            "[3, 8, 5]\n"
          ]
        }
      ]
    },
    {
      "cell_type": "markdown",
      "source": [
        "#Question 17\n",
        "Write a list comprehension to find all prime numbers between 1 and 20 (Hint: Use a helper function).\n",
        "Output: [2, 3, 5, 7, 11, 13, 17, 19]"
      ],
      "metadata": {
        "id": "8gQ4hNBw14-K"
      }
    },
    {
      "cell_type": "code",
      "source": [
        "def prime(num):\n",
        "  for i in range (2,num) :\n",
        "    if num % i == 0:\n",
        "      return (\"non_prime\")\n",
        "  else:\n",
        "       return (\"prime\")\n",
        "\n",
        "prime_numbers = [num for num in range (2,21) if prime(num) == \"prime\"]\n",
        "print(prime_numbers)"
      ],
      "metadata": {
        "colab": {
          "base_uri": "https://localhost:8080/"
        },
        "id": "0sB9p4jL1daC",
        "outputId": "506af479-647f-4ff1-d57f-361750415c2e"
      },
      "execution_count": 8,
      "outputs": [
        {
          "output_type": "stream",
          "name": "stdout",
          "text": [
            "[2, 3, 5, 7, 11, 13, 17, 19]\n"
          ]
        }
      ]
    },
    {
      "cell_type": "markdown",
      "source": [
        "#Question 18\n",
        "\n",
        "Use list comprehension to remove duplicates from the list [1, 2, 2, 3, 4, 4, 5].\n",
        "Output: [1, 2, 3, 4, 5]"
      ],
      "metadata": {
        "id": "knkQ0iFQ24U6"
      }
    },
    {
      "cell_type": "code",
      "source": [
        "duplicate_list = [1, 2, 2, 3, 4, 4, 5]\n",
        "unique_list = [list({num for num in duplicate_list})]\n",
        "print(unique_list)"
      ],
      "metadata": {
        "colab": {
          "base_uri": "https://localhost:8080/"
        },
        "id": "pKixO9kC13QT",
        "outputId": "16382948-3d8a-41b0-fa56-e8784c17e2b5"
      },
      "execution_count": 10,
      "outputs": [
        {
          "output_type": "stream",
          "name": "stdout",
          "text": [
            "[[1, 2, 3, 4, 5]]\n"
          ]
        }
      ]
    },
    {
      "cell_type": "markdown",
      "source": [
        "#Question 19\n",
        "\n",
        "Write a nested list comprehension to generate the multiplication table (1-10).\n",
        "Output: [[1, 2, 3, ..., 10], [2, 4, 6, ..., 20], ..., [10, 20, 30, ..., 100]]\n"
      ],
      "metadata": {
        "id": "wI2GPPAl3Ak9"
      }
    },
    {
      "cell_type": "code",
      "source": [
        "table = [[num*i for i in range (1,11)]for num in range(1,11)]\n",
        "print(table)"
      ],
      "metadata": {
        "colab": {
          "base_uri": "https://localhost:8080/"
        },
        "id": "mRRIqpnL3NQf",
        "outputId": "11eee0c0-613d-4b86-a0d1-fea37c9eabba"
      },
      "execution_count": 11,
      "outputs": [
        {
          "output_type": "stream",
          "name": "stdout",
          "text": [
            "[[1, 2, 3, 4, 5, 6, 7, 8, 9, 10], [2, 4, 6, 8, 10, 12, 14, 16, 18, 20], [3, 6, 9, 12, 15, 18, 21, 24, 27, 30], [4, 8, 12, 16, 20, 24, 28, 32, 36, 40], [5, 10, 15, 20, 25, 30, 35, 40, 45, 50], [6, 12, 18, 24, 30, 36, 42, 48, 54, 60], [7, 14, 21, 28, 35, 42, 49, 56, 63, 70], [8, 16, 24, 32, 40, 48, 56, 64, 72, 80], [9, 18, 27, 36, 45, 54, 63, 72, 81, 90], [10, 20, 30, 40, 50, 60, 70, 80, 90, 100]]\n"
          ]
        }
      ]
    },
    {
      "cell_type": "markdown",
      "source": [
        "#Question 20\n",
        "Use a list comprehension to flatten a deeply nested list [[1, [2, 3]], [4, [5, 6]]] (Hint: Recursion or nested comprehensions).\n",
        "Output: [1, 2, 3, 4, 5, 6]"
      ],
      "metadata": {
        "id": "JOV5ftnQ3PVZ"
      }
    },
    {
      "cell_type": "code",
      "source": [
        "nested_list = [[1, [2, 3]], [4, [5, 6]]]\n",
        "flat_list = [num for row in nested_list for sublist in row for num in (sublist if isinstance(sublist, list) else [sublist])]\n",
        "print(flat_list)"
      ],
      "metadata": {
        "colab": {
          "base_uri": "https://localhost:8080/"
        },
        "id": "WpjP-guB3U3H",
        "outputId": "3be3660f-60fe-4a1f-a470-74e4eda7290e"
      },
      "execution_count": 17,
      "outputs": [
        {
          "output_type": "stream",
          "name": "stdout",
          "text": [
            "[1, 2, 3, 4, 5, 6]\n"
          ]
        }
      ]
    }
  ]
}